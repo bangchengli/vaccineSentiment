{
 "cells": [
  {
   "cell_type": "code",
   "execution_count": 14,
   "id": "409186d6-60c3-4653-8eb6-23a9b29b8768",
   "metadata": {},
   "outputs": [],
   "source": [
    "#Cleaning\n",
    "import pandas as pd\n",
    "import csv\n",
    "import re"
   ]
  },
  {
   "cell_type": "code",
   "execution_count": 16,
   "id": "594661f0-069b-4302-88ab-73aaed036fdf",
   "metadata": {},
   "outputs": [
    {
     "name": "stderr",
     "output_type": "stream",
     "text": [
      "C:\\Users\\bangc\\AppData\\Local\\Programs\\Python\\Python310\\lib\\site-packages\\IPython\\core\\interactiveshell.py:3457: DtypeWarning: Columns (0,1,2,3,4,5) have mixed types.Specify dtype option on import or set low_memory=False.\n",
      "  exec(code_obj, self.user_global_ns, self.user_ns)\n"
     ]
    }
   ],
   "source": [
    "df = pd.read_csv(\"neutral.csv\")"
   ]
  },
  {
   "cell_type": "code",
   "execution_count": 18,
   "id": "d1eb87a1-be5c-4320-bcb9-4cff9db2cd31",
   "metadata": {},
   "outputs": [],
   "source": [
    "def cleanText(text):\n",
    "    text = re.sub(\"(@[A-Za-z0-9_]+)\", '', str(text))\n",
    "    text = re.sub(r'#', '', text)\n",
    "    text = re.sub(r'RT[\\s]+', '', text)\n",
    "    text = re.sub(r'https?:\\/\\/\\S+', '', text)\n",
    "    return text\n",
    "\n",
    "df['Tweet Text'] = df['Tweet Text'].apply(cleanText)\n"
   ]
  },
  {
   "cell_type": "code",
   "execution_count": 19,
   "id": "36628688-8195-46ee-9e5b-1b7a93f6d5bb",
   "metadata": {},
   "outputs": [
    {
     "data": {
      "text/html": [
       "<div>\n",
       "<style scoped>\n",
       "    .dataframe tbody tr th:only-of-type {\n",
       "        vertical-align: middle;\n",
       "    }\n",
       "\n",
       "    .dataframe tbody tr th {\n",
       "        vertical-align: top;\n",
       "    }\n",
       "\n",
       "    .dataframe thead th {\n",
       "        text-align: right;\n",
       "    }\n",
       "</style>\n",
       "<table border=\"1\" class=\"dataframe\">\n",
       "  <thead>\n",
       "    <tr style=\"text-align: right;\">\n",
       "      <th></th>\n",
       "      <th>Unnamed: 0</th>\n",
       "      <th>User ID</th>\n",
       "      <th>Tweet ID</th>\n",
       "      <th>Tweet Text</th>\n",
       "      <th>Date</th>\n",
       "      <th>Time</th>\n",
       "    </tr>\n",
       "  </thead>\n",
       "  <tbody>\n",
       "    <tr>\n",
       "      <th>0</th>\n",
       "      <td>0</td>\n",
       "      <td>1211430108583493632</td>\n",
       "      <td>1316430551998517248</td>\n",
       "      <td>i just REALLY love my flight &amp;lt;3</td>\n",
       "      <td>2020-10-14</td>\n",
       "      <td>17:27:56</td>\n",
       "    </tr>\n",
       "    <tr>\n",
       "      <th>1</th>\n",
       "      <td>1</td>\n",
       "      <td>1211430108583493632</td>\n",
       "      <td>1316430350629974018</td>\n",
       "      <td>flight rising is amazing orgnjireiwjn i love i...</td>\n",
       "      <td>2020-10-14</td>\n",
       "      <td>17:27:08</td>\n",
       "    </tr>\n",
       "    <tr>\n",
       "      <th>2</th>\n",
       "      <td>2</td>\n",
       "      <td>1211430108583493632</td>\n",
       "      <td>1316428372990406659</td>\n",
       "      <td>THEYRE SO CUTE???</td>\n",
       "      <td>2020-10-14</td>\n",
       "      <td>17:19:16</td>\n",
       "    </tr>\n",
       "    <tr>\n",
       "      <th>3</th>\n",
       "      <td>3</td>\n",
       "      <td>1211430108583493632</td>\n",
       "      <td>1316427851638415361</td>\n",
       "      <td>WENDY\"S WHAT</td>\n",
       "      <td>2020-10-14</td>\n",
       "      <td>17:17:12</td>\n",
       "    </tr>\n",
       "    <tr>\n",
       "      <th>4</th>\n",
       "      <td>4</td>\n",
       "      <td>1211430108583493632</td>\n",
       "      <td>1316427602127720461</td>\n",
       "      <td>MY BOY</td>\n",
       "      <td>2020-10-14</td>\n",
       "      <td>17:16:13</td>\n",
       "    </tr>\n",
       "  </tbody>\n",
       "</table>\n",
       "</div>"
      ],
      "text/plain": [
       "  Unnamed: 0              User ID             Tweet ID  \\\n",
       "0          0  1211430108583493632  1316430551998517248   \n",
       "1          1  1211430108583493632  1316430350629974018   \n",
       "2          2  1211430108583493632  1316428372990406659   \n",
       "3          3  1211430108583493632  1316427851638415361   \n",
       "4          4  1211430108583493632  1316427602127720461   \n",
       "\n",
       "                                          Tweet Text        Date      Time  \n",
       "0                i just REALLY love my flight &lt;3   2020-10-14  17:27:56  \n",
       "1  flight rising is amazing orgnjireiwjn i love i...  2020-10-14  17:27:08  \n",
       "2                                 THEYRE SO CUTE???   2020-10-14  17:19:16  \n",
       "3                                      WENDY\"S WHAT   2020-10-14  17:17:12  \n",
       "4                                            MY BOY   2020-10-14  17:16:13  "
      ]
     },
     "execution_count": 19,
     "metadata": {},
     "output_type": "execute_result"
    }
   ],
   "source": [
    "df.head()"
   ]
  },
  {
   "cell_type": "code",
   "execution_count": 20,
   "id": "f043f946-438b-41da-b499-a2788f3ace88",
   "metadata": {},
   "outputs": [],
   "source": [
    "df.to_csv('neutral_1.csv')"
   ]
  },
  {
   "cell_type": "code",
   "execution_count": 21,
   "id": "a7112e57-7d51-4a17-a151-d0bb865dfaf8",
   "metadata": {},
   "outputs": [
    {
     "name": "stderr",
     "output_type": "stream",
     "text": [
      "C:\\Users\\bangc\\AppData\\Local\\Programs\\Python\\Python310\\lib\\site-packages\\IPython\\core\\interactiveshell.py:3457: DtypeWarning: Columns (1,2,3,4,5,6) have mixed types.Specify dtype option on import or set low_memory=False.\n",
      "  exec(code_obj, self.user_global_ns, self.user_ns)\n"
     ]
    }
   ],
   "source": [
    "# Create a csv\n",
    "keywords = ['Vaccine', 'vaccine']\n",
    "searched_keywords = '|'.join(keywords)\n",
    "df = pd.read_csv('neutral_1.csv')\n",
    "df = df[df['Tweet Text'].str.contains(searched_keywords, na=False)] "
   ]
  },
  {
   "cell_type": "code",
   "execution_count": 22,
   "id": "29d8e82c-4956-48b0-96e3-fe75606a331b",
   "metadata": {},
   "outputs": [],
   "source": [
    "#Sentiment Analysis\n",
    "from vaderSentiment.vaderSentiment import SentimentIntensityAnalyzer as st\n",
    "analyzer = st()"
   ]
  },
  {
   "cell_type": "code",
   "execution_count": 23,
   "id": "d1fd195c-4190-4800-9db7-50a1fbb5ca60",
   "metadata": {},
   "outputs": [
    {
     "data": {
      "text/html": [
       "<div>\n",
       "<style scoped>\n",
       "    .dataframe tbody tr th:only-of-type {\n",
       "        vertical-align: middle;\n",
       "    }\n",
       "\n",
       "    .dataframe tbody tr th {\n",
       "        vertical-align: top;\n",
       "    }\n",
       "\n",
       "    .dataframe thead th {\n",
       "        text-align: right;\n",
       "    }\n",
       "</style>\n",
       "<table border=\"1\" class=\"dataframe\">\n",
       "  <thead>\n",
       "    <tr style=\"text-align: right;\">\n",
       "      <th></th>\n",
       "      <th>Unnamed: 0</th>\n",
       "      <th>Unnamed: 0.1</th>\n",
       "      <th>User ID</th>\n",
       "      <th>Tweet ID</th>\n",
       "      <th>Tweet Text</th>\n",
       "      <th>Date</th>\n",
       "      <th>Time</th>\n",
       "    </tr>\n",
       "  </thead>\n",
       "  <tbody>\n",
       "    <tr>\n",
       "      <th>72</th>\n",
       "      <td>72</td>\n",
       "      <td>72</td>\n",
       "      <td>54544351</td>\n",
       "      <td>1310269988725424128</td>\n",
       "      <td>Modi pledges to use India vaccine-production c...</td>\n",
       "      <td>2020-09-27</td>\n",
       "      <td>17:28:03</td>\n",
       "    </tr>\n",
       "    <tr>\n",
       "      <th>1240</th>\n",
       "      <td>1240</td>\n",
       "      <td>1240</td>\n",
       "      <td>1086613757906821120</td>\n",
       "      <td>1300614897215188993</td>\n",
       "      <td>My family and I will pass on this premature va...</td>\n",
       "      <td>2020-09-01</td>\n",
       "      <td>02:02:10</td>\n",
       "    </tr>\n",
       "    <tr>\n",
       "      <th>3734</th>\n",
       "      <td>3734</td>\n",
       "      <td>3734</td>\n",
       "      <td>381668772</td>\n",
       "      <td>1315845492933300224</td>\n",
       "      <td>Johnson &amp;amp; Johnson COVID-19 vaccine trial p...</td>\n",
       "      <td>2020-10-13</td>\n",
       "      <td>02:43:07</td>\n",
       "    </tr>\n",
       "    <tr>\n",
       "      <th>4994</th>\n",
       "      <td>4994</td>\n",
       "      <td>4994</td>\n",
       "      <td>2544206017</td>\n",
       "      <td>1309833443858149376</td>\n",
       "      <td>Chinese officials push use of emergency corona...</td>\n",
       "      <td>2020-09-26</td>\n",
       "      <td>12:33:23</td>\n",
       "    </tr>\n",
       "    <tr>\n",
       "      <th>4997</th>\n",
       "      <td>4997</td>\n",
       "      <td>4997</td>\n",
       "      <td>2544206017</td>\n",
       "      <td>1309667374929502210</td>\n",
       "      <td>China says WHO supported early use of coronavi...</td>\n",
       "      <td>2020-09-26</td>\n",
       "      <td>01:33:29</td>\n",
       "    </tr>\n",
       "  </tbody>\n",
       "</table>\n",
       "</div>"
      ],
      "text/plain": [
       "      Unnamed: 0 Unnamed: 0.1              User ID             Tweet ID  \\\n",
       "72            72           72             54544351  1310269988725424128   \n",
       "1240        1240         1240  1086613757906821120  1300614897215188993   \n",
       "3734        3734         3734            381668772  1315845492933300224   \n",
       "4994        4994         4994           2544206017  1309833443858149376   \n",
       "4997        4997         4997           2544206017  1309667374929502210   \n",
       "\n",
       "                                             Tweet Text        Date      Time  \n",
       "72    Modi pledges to use India vaccine-production c...  2020-09-27  17:28:03  \n",
       "1240  My family and I will pass on this premature va...  2020-09-01  02:02:10  \n",
       "3734  Johnson &amp; Johnson COVID-19 vaccine trial p...  2020-10-13  02:43:07  \n",
       "4994  Chinese officials push use of emergency corona...  2020-09-26  12:33:23  \n",
       "4997  China says WHO supported early use of coronavi...  2020-09-26  01:33:29  "
      ]
     },
     "execution_count": 23,
     "metadata": {},
     "output_type": "execute_result"
    }
   ],
   "source": [
    "df.head()"
   ]
  },
  {
   "cell_type": "code",
   "execution_count": 24,
   "id": "7bad6f50-bb50-46d0-8bf3-6d00afe701cc",
   "metadata": {},
   "outputs": [
    {
     "data": {
      "text/plain": [
       "\"Modi pledges to use India vaccine-production capacity to help 'all humanity' \""
      ]
     },
     "execution_count": 24,
     "metadata": {},
     "output_type": "execute_result"
    }
   ],
   "source": [
    "df.iloc[0][4]"
   ]
  },
  {
   "cell_type": "code",
   "execution_count": 25,
   "id": "87ccb1b6-f998-461b-9172-f4db7f79a177",
   "metadata": {},
   "outputs": [],
   "source": [
    "score_neutral = []\n",
    "score_positive = []\n",
    "score_negative = []\n",
    "score_compound = []\n",
    "for i in range(0, df.shape[0]):\n",
    "    score = analyzer.polarity_scores(df.iloc[i][4])\n",
    "    score1 = score['neu']\n",
    "    score_neutral.append(score1)\n",
    "    score2 = score['pos']\n",
    "    score_positive.append(score2)\n",
    "    score3 = score['neg']\n",
    "    score_negative.append(score3)\n",
    "    score4 = score['compound']\n",
    "    score_compound.append(score4)\n",
    "\n",
    "df['neutral'] = score_neutral\n",
    "df['positive'] = score_positive\n",
    "df['negative'] = score_negative\n",
    "df['compound'] = score_compound"
   ]
  },
  {
   "cell_type": "code",
   "execution_count": 26,
   "id": "6be0c8de-dc31-45cd-99e3-9b0c01138cf4",
   "metadata": {},
   "outputs": [
    {
     "data": {
      "text/html": [
       "<div>\n",
       "<style scoped>\n",
       "    .dataframe tbody tr th:only-of-type {\n",
       "        vertical-align: middle;\n",
       "    }\n",
       "\n",
       "    .dataframe tbody tr th {\n",
       "        vertical-align: top;\n",
       "    }\n",
       "\n",
       "    .dataframe thead th {\n",
       "        text-align: right;\n",
       "    }\n",
       "</style>\n",
       "<table border=\"1\" class=\"dataframe\">\n",
       "  <thead>\n",
       "    <tr style=\"text-align: right;\">\n",
       "      <th></th>\n",
       "      <th>Unnamed: 0</th>\n",
       "      <th>Unnamed: 0.1</th>\n",
       "      <th>User ID</th>\n",
       "      <th>Tweet ID</th>\n",
       "      <th>Tweet Text</th>\n",
       "      <th>Date</th>\n",
       "      <th>Time</th>\n",
       "      <th>neutral</th>\n",
       "      <th>positive</th>\n",
       "      <th>negative</th>\n",
       "      <th>compound</th>\n",
       "    </tr>\n",
       "  </thead>\n",
       "  <tbody>\n",
       "    <tr>\n",
       "      <th>72</th>\n",
       "      <td>72</td>\n",
       "      <td>72</td>\n",
       "      <td>54544351</td>\n",
       "      <td>1310269988725424128</td>\n",
       "      <td>Modi pledges to use India vaccine-production c...</td>\n",
       "      <td>2020-09-27</td>\n",
       "      <td>17:28:03</td>\n",
       "      <td>0.787</td>\n",
       "      <td>0.213</td>\n",
       "      <td>0.000</td>\n",
       "      <td>0.4019</td>\n",
       "    </tr>\n",
       "    <tr>\n",
       "      <th>1240</th>\n",
       "      <td>1240</td>\n",
       "      <td>1240</td>\n",
       "      <td>1086613757906821120</td>\n",
       "      <td>1300614897215188993</td>\n",
       "      <td>My family and I will pass on this premature va...</td>\n",
       "      <td>2020-09-01</td>\n",
       "      <td>02:02:10</td>\n",
       "      <td>1.000</td>\n",
       "      <td>0.000</td>\n",
       "      <td>0.000</td>\n",
       "      <td>0.0000</td>\n",
       "    </tr>\n",
       "    <tr>\n",
       "      <th>3734</th>\n",
       "      <td>3734</td>\n",
       "      <td>3734</td>\n",
       "      <td>381668772</td>\n",
       "      <td>1315845492933300224</td>\n",
       "      <td>Johnson &amp;amp; Johnson COVID-19 vaccine trial p...</td>\n",
       "      <td>2020-10-13</td>\n",
       "      <td>02:43:07</td>\n",
       "      <td>0.769</td>\n",
       "      <td>0.000</td>\n",
       "      <td>0.231</td>\n",
       "      <td>-0.4019</td>\n",
       "    </tr>\n",
       "    <tr>\n",
       "      <th>4994</th>\n",
       "      <td>4994</td>\n",
       "      <td>4994</td>\n",
       "      <td>2544206017</td>\n",
       "      <td>1309833443858149376</td>\n",
       "      <td>Chinese officials push use of emergency corona...</td>\n",
       "      <td>2020-09-26</td>\n",
       "      <td>12:33:23</td>\n",
       "      <td>0.776</td>\n",
       "      <td>0.000</td>\n",
       "      <td>0.224</td>\n",
       "      <td>-0.3818</td>\n",
       "    </tr>\n",
       "    <tr>\n",
       "      <th>4997</th>\n",
       "      <td>4997</td>\n",
       "      <td>4997</td>\n",
       "      <td>2544206017</td>\n",
       "      <td>1309667374929502210</td>\n",
       "      <td>China says WHO supported early use of coronavi...</td>\n",
       "      <td>2020-09-26</td>\n",
       "      <td>01:33:29</td>\n",
       "      <td>0.839</td>\n",
       "      <td>0.161</td>\n",
       "      <td>0.000</td>\n",
       "      <td>0.3182</td>\n",
       "    </tr>\n",
       "  </tbody>\n",
       "</table>\n",
       "</div>"
      ],
      "text/plain": [
       "      Unnamed: 0 Unnamed: 0.1              User ID             Tweet ID  \\\n",
       "72            72           72             54544351  1310269988725424128   \n",
       "1240        1240         1240  1086613757906821120  1300614897215188993   \n",
       "3734        3734         3734            381668772  1315845492933300224   \n",
       "4994        4994         4994           2544206017  1309833443858149376   \n",
       "4997        4997         4997           2544206017  1309667374929502210   \n",
       "\n",
       "                                             Tweet Text        Date      Time  \\\n",
       "72    Modi pledges to use India vaccine-production c...  2020-09-27  17:28:03   \n",
       "1240  My family and I will pass on this premature va...  2020-09-01  02:02:10   \n",
       "3734  Johnson &amp; Johnson COVID-19 vaccine trial p...  2020-10-13  02:43:07   \n",
       "4994  Chinese officials push use of emergency corona...  2020-09-26  12:33:23   \n",
       "4997  China says WHO supported early use of coronavi...  2020-09-26  01:33:29   \n",
       "\n",
       "      neutral  positive  negative  compound  \n",
       "72      0.787     0.213     0.000    0.4019  \n",
       "1240    1.000     0.000     0.000    0.0000  \n",
       "3734    0.769     0.000     0.231   -0.4019  \n",
       "4994    0.776     0.000     0.224   -0.3818  \n",
       "4997    0.839     0.161     0.000    0.3182  "
      ]
     },
     "execution_count": 26,
     "metadata": {},
     "output_type": "execute_result"
    }
   ],
   "source": [
    "df.head()"
   ]
  },
  {
   "cell_type": "code",
   "execution_count": 27,
   "id": "a9e40bc3-cacb-472d-baf6-6d869d38aadd",
   "metadata": {},
   "outputs": [],
   "source": [
    "df.to_csv('neutral_final.csv')"
   ]
  },
  {
   "cell_type": "code",
   "execution_count": null,
   "id": "e5457fa3-6c03-4c50-88ce-6bfdbf406f2d",
   "metadata": {},
   "outputs": [],
   "source": []
  }
 ],
 "metadata": {
  "kernelspec": {
   "display_name": "Python 3 (ipykernel)",
   "language": "python",
   "name": "python3"
  },
  "language_info": {
   "codemirror_mode": {
    "name": "ipython",
    "version": 3
   },
   "file_extension": ".py",
   "mimetype": "text/x-python",
   "name": "python",
   "nbconvert_exporter": "python",
   "pygments_lexer": "ipython3",
   "version": "3.10.1"
  }
 },
 "nbformat": 4,
 "nbformat_minor": 5
}
